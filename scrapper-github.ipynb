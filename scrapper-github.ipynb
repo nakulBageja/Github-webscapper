{
 "cells": [
  {
   "cell_type": "code",
   "execution_count": 1,
   "id": "69c814e9-3967-490e-974f-817a930ab5ca",
   "metadata": {},
   "outputs": [],
   "source": [
    "import requests\n",
    "from bs4 import BeautifulSoup\n",
    "import csv"
   ]
  },
  {
   "cell_type": "code",
   "execution_count": 2,
   "id": "15c25438-22ec-49f7-b4d9-a40524b26775",
   "metadata": {},
   "outputs": [],
   "source": [
    "# Collect the github page\n",
    "page = requests.get('https://github.com/trending')"
   ]
  },
  {
   "cell_type": "code",
   "execution_count": 3,
   "id": "3e689355-23b1-4dd9-a842-963b59c4a559",
   "metadata": {},
   "outputs": [],
   "source": [
    "# Create a BeautifulSoup object\n",
    "soup = BeautifulSoup(page.text, 'html.parser')\n",
    "\n",
    "# Get the repo list\n",
    "repo_list =  soup.find_all(\"article\", {\"class\": \"Box-row\"})"
   ]
  },
  {
   "cell_type": "code",
   "execution_count": 6,
   "id": "750f2dd2-1212-4cff-96e1-9334a3158dea",
   "metadata": {},
   "outputs": [
    {
     "data": {
      "text/plain": [
       "58"
      ]
     },
     "execution_count": 6,
     "metadata": {},
     "output_type": "execute_result"
    }
   ],
   "source": [
    "# Open writer with name\n",
    "file_name = \"github_trending_today.csv\"\n",
    "# set newline to be '' so that that new rows are appended without skipping any\n",
    "f = csv.writer(open(file_name, 'w', newline=''))\n",
    "\n",
    "# write a new row as a header\n",
    "f.writerow(['Developer', 'Repo Name', 'Programming Language','Number of Stars'])"
   ]
  },
  {
   "cell_type": "code",
   "execution_count": 5,
   "id": "16cf2c57-8d10-47a3-9e22-27d3f1bd8d3a",
   "metadata": {},
   "outputs": [],
   "source": [
    "# Extract Developer name, repository name, Programming Language, Stars\n",
    "for repo in repo_list:\n",
    "    try:\n",
    "        full_repo_name = repo.find(class_=\"h3 lh-condensed\").text.split('/')\n",
    "        developer = full_repo_name[0].strip()\n",
    "        repo_name = full_repo_name[1].strip()\n",
    "        programming_language = repo.find_all('span',{'itemprop':'programmingLanguage'})[0].text\n",
    "        stars = repo.find(class_='octicon octicon-star').parent.text.strip()\n",
    "\n",
    "        # add the information as a row into the csv table\n",
    "        f.writerow([developer, repo_name, programming_language, stars])\n",
    "    except Exception as e:\n",
    "        print(e)\n",
    "        print(repo)\n",
    "    "
   ]
  }
 ],
 "metadata": {
  "kernelspec": {
   "display_name": "Python 3",
   "language": "python",
   "name": "python3"
  },
  "language_info": {
   "codemirror_mode": {
    "name": "ipython",
    "version": 3
   },
   "file_extension": ".py",
   "mimetype": "text/x-python",
   "name": "python",
   "nbconvert_exporter": "python",
   "pygments_lexer": "ipython3",
   "version": "3.8.8"
  }
 },
 "nbformat": 4,
 "nbformat_minor": 5
}
